{
 "cells": [
  {
   "cell_type": "markdown",
   "metadata": {},
   "source": [
    "# Data Structures: What are they?\n",
    "\n",
    "In this notebook we will take a quick look at *data structures* - what they are, what their purpose is and why they're important. There are further chapters following this one that go into specifics of data structures that are useful in specific situations, but for now let's discuss the basics.\n",
    "\n",
    "## Definitions\n",
    "\n",
    "**Data structures (DS)** are methods of storing data, simple or complex, in manageable and easily accessible ways. These methods can range from simple arrays holding a basic list to complex class structures that contain information on many aspects of an object. The most imporant aspect of whatever data structure you employ is that it contains solutions for both adding relevant information to the storage of the data, as well as retrieving specific data when necessary. A DS is also defined as a concrete implementation of an *abstract data type (below)*.\n",
    "\n",
    "**Abstract Data Types (ADT)** are defined as the specifications of the operations performed on data and the necessary computational steps for performing those operations. Essentially, the ADT provides the theoretical framework for a DS.\n",
    "\n",
    "\n"
   ]
  }
 ],
 "metadata": {
  "language_info": {
   "name": "python"
  }
 },
 "nbformat": 4,
 "nbformat_minor": 2
}
