{
 "cells": [
  {
   "cell_type": "markdown",
   "metadata": {},
   "source": [
    "**Chapter One: Python**\n",
    "\n",
    "In this chapter, you will learn the very basics behind python, how to use it either as a quick calculator\n",
    "\n",
    "1.1 The interpreter vs the programming language\n",
    "\n",
    "1.2 Variables\n",
    "\n",
    "1.3 Data structures\n",
    "\n",
    "1.4 Statements and built-in functions\n",
    "\n",
    "1.5 Writing your own functions\n",
    "\n",
    "1.6 Modules\n",
    "\n",
    "1.7 Helpful libraries\n",
    "\n",
    "1.8 Final thoughts"
   ]
  }
 ],
 "metadata": {
  "kernelspec": {
   "display_name": "Python 3.8.2 64-bit",
   "language": "python",
   "name": "python3"
  },
  "language_info": {
   "name": "python",
   "version": "3.8.2"
  },
  "orig_nbformat": 4,
  "vscode": {
   "interpreter": {
    "hash": "31f2aee4e71d21fbe5cf8b01ff0e069b9275f58929596ceb00d14d90e3e16cd6"
   }
  }
 },
 "nbformat": 4,
 "nbformat_minor": 2
}
