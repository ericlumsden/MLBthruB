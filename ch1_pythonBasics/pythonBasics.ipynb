{
 "cells": [
  {
   "cell_type": "markdown",
   "metadata": {},
   "source": [
    "#Chapter One: Python\n",
    "\n",
    "In this chapter, you will learn the very basics of python. For a more in-depth look at python's functionality, see [python's documentations webpage](https://www.python.org/doc/). This chapter will cover just enough for the unitiated to run and understand the tutorials. If you have experience in python already, feel free to skip this chapter.\n",
    "\n",
    "##1.0 Running examples in the jupyter notebooks\n",
    "\n",
    "Before getting into the language itself, it is import we all understand how to interact with the jupyter notebooks. Jupyter notebooks are handy in that they allow you to easily mix text with code (as opposed to just having documents filled with long sections of comments); however, it is important that you run the cells in order so that any loaded modules / defined variables / defined functions are available to the cells that follow them (don't worry, these terms will be explained below for the unitiated). You can run each cell, and skip over text-filled cells, with `ctrl+enter` or you can use the buttons at the top of each cell to run them individually. Alternatively, you can select the 'Run All Cells' button in the toolbar and then read through the cells after they have been run, but I recommend running the cells as you get to them to make sure you fully understand what each cell is doing before moving on to the next.\n",
    "\n",
    "Make sure you try these different options out on the examples below.\n",
    "\n",
    "##1.1 The interpreter\n",
    "\n",
    "The python interpreter is what runs our programs and is only necessary for those of you interested in writing programs outside of the jupyter tutorials (everyone else can skip down to 1.2). The beauty of the interpreter is that it can also perform python commands live in the shell. Typically, we will run a python program after it has been written, by calling the interpreter and adding the filename to the command, e.g.:\n",
    "\n",
    "```bash\n",
    "user@COMPUTER:/$ python3 example_file.py\n",
    "```\n",
    "\n",
    "However, we can also perform python commands live by simply typing in the interpreter itself:\n",
    "\n",
    "```bash\n",
    "user@COMPUTER:/$ python3\n",
    ">>>example_command = \"example command\"\n",
    ">>>print(example_command)\n",
    "example command\n",
    "```\n",
    "\n",
    "From there we can perform any functionality we would normally write into an actual script and have the effects happen live. While this is can be very useful for a number of reasons (e.g. affecting local files, performing quick calculations, testing certain functions, etc), we will primarily be writing our programs into scripts and then running them with the interpreter. So, if you want to write your own code as you follow along, I suggest that for these initial tutorials dealing with variables and data types you start with the running the interpreter without a program, but as we get into more complicated function writing, start with a script that you then run with the interpreter.\n",
    "\n",
    "##1.2 Variables\n",
    "\n",
    "Typically, when we write our programs we will be performing the bulk of our operations on variables. We can set variables to be a number of things and of many different types. Those types include integers (round, whole numbers), floating point numbers (aka floats, numbers with a decimal place), strings (words or individual letters or numbers (if defined within single- or double-quotations))."
   ]
  },
  {
   "cell_type": "code",
   "execution_count": null,
   "metadata": {},
   "outputs": [],
   "source": [
    "# First, this is a comment, a piece of text ignored by the interpreter, set as such with the hash symbol\n",
    "# Most people use comments to explain their code or walk through how certain functions work\n",
    "\n",
    "# Now, let's set our variables\n",
    "a = 1\n",
    "b = 1.0\n",
    "# For strings, you must surround the character(s) with single or double quotes\n",
    "c = 'one'\n",
    "d = \"o\"\n",
    "\n",
    "''' This is another way to comment in python, using three single apostrophes\n",
    "Now you can write entire blocks of text without preceding each line with a hash symbol\n",
    "But you have to remember to end the block of comments with another set of three apostrophes\n",
    "\n",
    "\n",
    "Let's print out our variables and their types\n",
    "I am printing these strings as 'formatted,' hence the f in front of the string\n",
    "Formatting a string allows me to print what the variable represents by wrapping it in curly braces\n",
    "Also, you can run certain functions (like type()) in the curly braces to get the variable's type\n",
    "\n",
    "The type() function prints what data type the variable is - we'll get more into functions later\n",
    "'''\n",
    "print(f'a is {a} and is of type {type(a)}')\n",
    "print(f'b is {b} and is of type {type(b)}')\n",
    "print(f'c is {c} and is of type {type(c)}')\n",
    "print(f'd is {d} and is of type {type(d)}')"
   ]
  },
  {
   "cell_type": "markdown",
   "metadata": {},
   "source": [
    "##1.3 Basic operations\n",
    "\n",
    "We can perform basic mathematical operations on our variables once they have been assigned (e.g. +, -, *, /). One operator that might be less familiar to you is the modulo (`%`) operator. This provides the remainder after division of two integers. Initially, I set the variables to floats, but can make them integers using the `int()` function (this also works for changing variables to many other types, including `float()` and `string()`). For the example below I set the variables two and three to floats of those respective numbers as it provides a float value following all mathematical operations, including division. If I did not make these values floats, then performing division would return a 0, as the integer value rounds to 0. I have shown this in the example below as well."
   ]
  },
  {
   "cell_type": "code",
   "execution_count": null,
   "metadata": {},
   "outputs": [],
   "source": [
    "two = 2.0\n",
    "three = 3.0\n",
    "\n",
    "print(f'two plus three equals {two + three}')\n",
    "print(f'two minus three equals {two - three}')\n",
    "print(f'two times three equals {two * three}')\n",
    "print(f'two divided by three equals {two / three}')\n",
    "print(f'two divided by three as integers equals {int(two) / int(three)}')\n",
    "print(f'three modulo two equals {int(three) % int(two)}')"
   ]
  },
  {
   "cell_type": "markdown",
   "metadata": {},
   "source": [
    "It can sometimes be confusing switching between data types, so we try not to do so unless absolutely necessary. We will almost always be dealing in strings and/or floats.\n",
    "\n",
    "Variables can also be reassigned, either through a direct change of their value or even through interactions with other variables. There are also some shorthands for this reassignment, which I show below."
   ]
  },
  {
   "cell_type": "code",
   "execution_count": null,
   "metadata": {},
   "outputs": [],
   "source": [
    "# To begin, let's set two variables\n",
    "var1 = 3.0\n",
    "var2 = 4.0\n",
    "print(f'before reassignment var1 = {var1}')\n",
    "\n",
    "var1 = 2.0\n",
    "print(f'after reassignment var1 = {var1}')\n",
    "\n",
    "# Now, let's reassign a variable through interaction with the other variable\n",
    "var1 = var1 * var2\n",
    "print(f'after reassignment through interaction var1 = {var2}')"
   ]
  },
  {
   "cell_type": "code",
   "execution_count": null,
   "metadata": {},
   "outputs": [],
   "source": [
    "# You might see certain shorthands for variable reassignment, such as using a mathematical operator and the equals sign to automatically update the variable\n",
    "# REMEMBER! Run the cell above so `var1` retains its assignment\n",
    "\n",
    "var1 += 4.0\n",
    "print(var1)\n",
    "\n",
    "var1 *= 2.0\n",
    "print(var1)\n",
    "\n",
    "var1 /= 2.0\n",
    "print(var1)"
   ]
  },
  {
   "cell_type": "markdown",
   "metadata": {},
   "source": [
    "You can also use some of these mathematical operations on types other than `float` or `int`. If you add two strings together you get the combined text in the order of the variables. You can also repeat a string by multiplying it by an integer."
   ]
  },
  {
   "cell_type": "code",
   "execution_count": null,
   "metadata": {},
   "outputs": [],
   "source": [
    "example_string = 'example_string'\n",
    "\n",
    "# Let's make a new example string from the initial one\n",
    "example_string_2 = example_string + '_2'\n",
    "\n",
    "print(example_string_2)\n",
    "\n",
    "# Now let's have five example strings together, separated with an underscore\n",
    "# Also notice I spelled five and didn't use the integer; you cannot start a variable name with a number in python\n",
    "five_example_strings = (example_string + '_') * 5\n",
    "\n",
    "print(five_example_strings)"
   ]
  },
  {
   "cell_type": "markdown",
   "metadata": {},
   "source": [
    "You cannot perform subtraction or division on strings. If you want to remove letters from a string you will have to treat it like an array, which we will cover in the next section. Below I try to subtract the letter g from my example string and it throws an error."
   ]
  },
  {
   "cell_type": "code",
   "execution_count": null,
   "metadata": {},
   "outputs": [],
   "source": [
    "print(example_string - 'g') # This will throw an error..."
   ]
  },
  {
   "cell_type": "code",
   "execution_count": null,
   "metadata": {},
   "outputs": [],
   "source": [
    "print(five_example_strings / 5) # ...as will this"
   ]
  },
  {
   "cell_type": "markdown",
   "metadata": {},
   "source": [
    "##1.4 Basic data structures\n",
    "\n",
    "There are many strategies we will use for storing our data, some of which are built into python, others will require importing certain modules. We will cover many of the different, helpful libraries in a future section, but for now you just need the basics.\n",
    "\n",
    "###1.4.1 Lists\n",
    "\n",
    "Our first data structure is lists. Lists have many useful characteristics, in that they can hold multiple different datatypes, they are mutable (meaning they can easily be manipulated to add or remove items) and they are ordered (meaning each item in the list has a given index which can be used to manipulate that item).\n",
    "\n",
    "Lists are defined using square brackets (e.g. `example_list = ['example_item1', 'example_item2']`) and their items are indexed starting at zero. To look at a specific item in the list we can call the list's name and add the index in square brackets to the end of it (e.g. `example_list[0]`). We don't have to index from the beginning (0, 1, 2...), we can index from the end of the list by using negative values (`example_list[-1]`). Be careful, though, because indexing from the end starts at 1, not 0. Let's start with a simple example."
   ]
  },
  {
   "cell_type": "code",
   "execution_count": null,
   "metadata": {},
   "outputs": [],
   "source": [
    "# Here I have a list of Cy Young Award candidates from 2021\n",
    "# You'll notice each item in this list is a string, but I do want to remind you that lists can contain a mix of types\n",
    "\n",
    "cy_young_candidates_2021 = ['Gerrit Cole', 'Lance Lynn', 'Robbie Ray', 'Corbin Burnes', 'Max Scherzer', 'Zack Wheeler']\n",
    "\n",
    "# If we want to investigate an individual Cy Young Award candidate we can call their index to identify them\n",
    "# Remember, lists in python are indexed starting at 0\n",
    "\n",
    "print(f'The first name in the cy_young_candidates_2021 list is {cy_young_candidates_2021[0]}')\n",
    "# Of course, because we index at 0, when looking for a name at any position we have to subtract one from the index value\n",
    "print(f'The third name in the cy_young_candidates_2021 list is {cy_young_candidates_2021[2]}')\n",
    "\n",
    "# If we want to skip to the end of the list, we can use a negative value (now starting at -1)\n",
    "print(f'The last name in the cy_young_candidates_2021 list is {cy_young_candidates_2021[-1]}')\n",
    "# We can also count backwards, the negatvie doesn't just work for the very last value\n",
    "print(f'The second-to-last name in the cy_young_candidates_2021 list is {cy_young_candidates_2021[-2]}')"
   ]
  },
  {
   "cell_type": "markdown",
   "metadata": {},
   "source": [
    "In addition to calling individual values, we can isolate specific sections of a list through 'slicing.' To slice a list we use the indices of interest, separated by a colon, to segment the list at those indices. Slicing is non-inclusive, meaning whatever index is used to dictate the final value of the segment will not be included in the segment. There are also a couple of shortcuts to slicing. If we know we want to start at the beginning of the list we do not need to include a value, just the square brackets with a colon and the final index value. Additionally, if we know we want to end our segment with the final value of the list, we simply use the starting index and a colon without the final index value (see below)"
   ]
  },
  {
   "cell_type": "code",
   "execution_count": null,
   "metadata": {},
   "outputs": [],
   "source": [
    "# You may have noticed I listed the AL candidates first in my cy_young_candidates_2021 list, so let's print out the candidates based on their league\n",
    "# First, let's print using the full index statements so you can see what that looks like\n",
    "print(f'The AL Cy Young Candidates from 2021 were {cy_young_candidates_2021[0:3]}')\n",
    "# Notice, when we're segmenting to the end of the list, and slicing is non-inclusive, we have to go one number higher than the index of the final item\n",
    "print(f'The NL Cy Young Candidates from 2021 were {cy_young_candidates_2021[3:6]}')\n",
    "\n",
    "# Now let's use the shortcut I mentioned before\n",
    "# Before we print them, let's actually save them as new, separate lists\n",
    "al_cy_young_candidates_2021 = cy_young_candidates_2021[:3]\n",
    "nl_cy_young_candidates_2021 = cy_young_candidates_2021[3:]\n",
    "\n",
    "print(f'The AL Cy Young Candidates from 2021 were {al_cy_young_candidates_2021}')\n",
    "print(f'The NL Cy Young Candidates from 2021 were {nl_cy_young_candidates_2021}')\n",
    "\n",
    "# Finally, let's just grab the middle four candidates to show what slicing in the middle of the list looks like\n",
    "print(f'The middle four candidates in the Cy Young Candidate list are {cy_young_candidates_2021[1:5]}')"
   ]
  },
  {
   "cell_type": "markdown",
   "metadata": {},
   "source": [
    "There are many other options for slicing your lists. If you don't want every entry in the segment we can add a second colon and then the number we want our slice to increment by. In other words, if we want every other entry, we add another colon following our indices and then a 2. It looks like this."
   ]
  },
  {
   "cell_type": "code",
   "execution_count": null,
   "metadata": {},
   "outputs": [],
   "source": [
    "every_other_candidate = cy_young_candidates_2021[0:6:2]\n",
    "\n",
    "# We can also use our shortcuts here, and since we're taking every other item from the entire list, just put in a semicolon with no first or last index\n",
    "every_other_candidate_shortcut = cy_young_candidates_2021[::2]\n",
    "\n",
    "print(f'The two ways of getting every other candidate returned lists like this: 1. {every_other_candidate}, 2. {every_other_candidate_shortcut}')\n",
    "\n",
    "# This trick also allows us to reverse a list very easily using a -1 after the second colon\n",
    "print(f'Reversed list of candidates using the slicing approach with a -1: {cy_young_candidates_2021[::-1]}')"
   ]
  },
  {
   "cell_type": "markdown",
   "metadata": {},
   "source": [
    "Now, let's say that I'm feeling petty and don't want to include any Yankees in my list. I can handle dropping the item `'Gerrit Cole'` in a few ways.\n",
    "\n",
    "First, since Gerrit Cole is the first item in the list, I can simply redefine the list without the 0 index point. That would look like this:\n",
    "\n",
    "```python3\n",
    "cy_young_candidates_2021 = cy_young_candidates_2021[1:]\n",
    "```\n",
    "\n",
    "Another option is using any of a number of list methods. Methods are used to modify objects, in this case lists, by appending them to said object. The objects that can be used to remove an item from a list are `.pop()` and `.remove()`. `.pop()` simultaneously removes and returns an item, so if I wanted to store Gerrit Cole as a variable I can do so while removing him from my list. I would have to include the index of Gerrit Cole in the list to successfully \"pop\" him, otherwise `.pop()` automatically removes the last item in a list."
   ]
  },
  {
   "cell_type": "code",
   "execution_count": null,
   "metadata": {},
   "outputs": [],
   "source": [
    "# Get outta here, Gerrit\n",
    "no_good_yankee_scum = cy_young_candidates_2021.pop(0)\n",
    "\n",
    "print(f'We removed the yankee scum, {no_good_yankee_scum}, from our list, which now looks like this: {cy_young_candidates_2021}')"
   ]
  },
  {
   "cell_type": "markdown",
   "metadata": {},
   "source": [
    "Like with all indexing rules, you can start indexing from the last item in `.pop()` by using negative numbers.\n",
    "\n",
    "For `.remove()` we actually include the value of the item itself in the parentheses instead of the index, which would look like this:\n",
    "\n",
    "```python3\n",
    "cy_young_candidates_2021.remove('Gerrit Cole')\n",
    "```\n",
    "\n",
    "Finally, the `del` statement can also be used to remove an item in a list. You can call `del` before identifying the list and index you wish to delete, which looks like this:\n",
    "\n",
    "```python3\n",
    "del cy_young_candidates_2021[0]\n",
    "```\n",
    "\n",
    "Unlike `.pop()` and `.remove()`, `del` also works on slices if you wanted to remove more than one item at a time.\n",
    "\n",
    "Now, the reason that I have been showing these to you but not including them in executable python code is because we already removed Gerrit with `.pop()` and would either get an error with the `.remove('Gerrit Cole')` call, or remove Lance Lynn from the list with `del cy_young_candidates_2021[0]` as he is now at index 0.\n",
    "\n",
    "Luckily for Gerrit the scientist in me prefers accuracy to personal bias and I'm feeling guilty for removing him from this list. I want to add his name back and we have a few options to do just that.\n",
    "\n",
    "First, we could use `.append()`, which is another list method. `.append()` adds whatever item you put into the parentheses to the end of a list, so while it is helpful for getting the item in, it will note put Gerrit back to his original place in the list. There is also `.extend()`, which adds items from one list to another. Unfortunately, because strings are treated like an array, `.extend('Gerrit Cole')` would add every letter from his name individually to the list, so this will not work either. A similar approach is to put the string 'Gerrit Cole' into a list of his own and add that to the existing list, like this:\n",
    "\n",
    "```python3\n",
    "cy_young_candidates += ['Gerrit Cole']\n",
    "```\n",
    "\n",
    "Again, we run into the issue of adding Gerrit to the end of the list.\n",
    "\n",
    "Another options is the `.insert()` method. Unlike many of the other methods we've talked about, which take one argument, `.insert()` takes two arguments: the index at which the item is to be added and said item."
   ]
  },
  {
   "cell_type": "code",
   "execution_count": null,
   "metadata": {},
   "outputs": [],
   "source": [
    "# Apologies, Mr. Cole. Welcome back\n",
    "cy_young_candidates_2021.insert(0, no_good_yankee_scum)\n",
    "\n",
    "print(f'{no_good_yankee_scum} is back to the beginning of the list: {cy_young_candidates_2021}')"
   ]
  },
  {
   "cell_type": "markdown",
   "metadata": {},
   "source": [
    "Finally, we could slice an item into an array; however, we once again face the predicament of strings being treated as arrays. If we used the string itself, the slicing method would add each letter individually to the list. Instead, we have to put the string into a list of its own and then slice it in, which would look like this:\n",
    "\n",
    "```python3\n",
    "cy_young_candidates_2021[0:0] = ['Gerrit Cole']\n",
    "```\n",
    "\n",
    "Notice we're using the 0 index for both beginning and end indices. If we used [0:1] then Gerrit would replace the first item in the list. By using the same index number for both indices in the slice we only add the item to that index of the list.\n",
    "\n",
    "The final aspect of lists that I want to cover here is item manipulation in a list. We can do a number of things to list items, including editing or replacing by calling the items with their indices and setting them equal to something else or manipulating them with type-appropriate changes."
   ]
  },
  {
   "cell_type": "code",
   "execution_count": null,
   "metadata": {},
   "outputs": [],
   "source": [
    "# Let's identify the winner by placing them in all caps\n",
    "\n",
    "cy_young_candidates_2021[2] = 'ROBBIE RAY'\n",
    "print(f'The winner of the Cy Young Award is now capitalized: {cy_young_candidates_2021}')\n",
    "\n",
    "# Rather than replacing the string 'ROBBIE RAY' let's manipulate it to include 'WINNER'\n",
    "cy_young_candidates_2021[2] += ' WINNER' # Notice the space in the string as the current string does not have a space on the end\n",
    "print(cy_young_candidates_2021)"
   ]
  },
  {
   "cell_type": "markdown",
   "metadata": {},
   "source": [
    "#1.4.2 Tuples\n",
    "\n"
   ]
  },
  {
   "cell_type": "code",
   "execution_count": null,
   "metadata": {},
   "outputs": [],
   "source": []
  },
  {
   "cell_type": "markdown",
   "metadata": {},
   "source": [
    "#1.4.3 Dictionaries"
   ]
  },
  {
   "cell_type": "markdown",
   "metadata": {},
   "source": []
  },
  {
   "cell_type": "markdown",
   "metadata": {},
   "source": [
    "\n",
    "For the rest of the discussion around data structures, it is important that you know how to import a module.\n",
    "\n",
    "First, the module of interest must be installed, which you can do using pip (or pip3). For an overview of installing and using pip please [see this helpful document](https://pypi.org/project/pip/). Once installed, we can simply call `import` followed by our module of interest. It looks like this:\n",
    "\n",
    "```python\n",
    "import numpy\n",
    "```\n",
    "\n",
    "numpy is a package that offers many useful data structures and scientific computing capabilities that we will use thorughout the rest of the book, including for the stats, calculus and linear algebra background chapters. One nice thing about importing packages into python is that we import them with a shorthand so we won't have to type their name out everytime we want to use them. Ex:\n",
    "\n",
    "```python\n",
    "import numpy as np\n",
    "```\n",
    "\n",
    "Now, whenever we want to call numpy we only have to type `np` followed by the module of interest.\n",
    "\n",
    "Additionally, we can import just specific modules of interest from their respective libraries. For example, when we want to graph something, we will often use the `pyplot` module from the matplotlib library. We can import `pyplot` directly and give it a shorthand as follows:\n",
    "\n",
    "```python\n",
    "import matplotlib.pyplot as plt\n",
    "```\n",
    "\n",
    "If we just wanted to import pyplot without giving it a shorthand, we could do so by using `from` and `import` like this:\n",
    "\n",
    "```python\n",
    "from matplotlib import pyplot\n",
    "```\n",
    "\n",
    "Now that you know how to import packages and their specific modules, let's use the numpy package for dealing with data structures."
   ]
  },
  {
   "cell_type": "markdown",
   "metadata": {},
   "source": [
    "\n",
    "##1.5 Built-in loops and functions\n",
    "\n",
    "There are many ways to manipulate variables, make decisions based on variables, produce certain outputs using variables, etc., that are built into python's functionality. Primarily, these approaches can occur through `loops` and `functions`. "
   ]
  },
  {
   "cell_type": "markdown",
   "metadata": {},
   "source": [
    "\n",
    "\n",
    "We have already covered a few built-in functions (e.g. print(), float(), string(), int()). One thing I'm sure you've noticed about all of these is the parentheses that follow the function name. Functions may or may not take in variables on which they act; for example, print('print') prints the word `print`, float(5) converts the integer `5` to the float `5.0`. In most cases you can perform operations within the parentheses while calling the function and the functionality will act on the result of that operation. You can also nest functions, by passing one function into another, performing the outer function on the result of the inner function.\n",
    "\n",
    "Other functions may act without taking in any variables. We will get to importing modules and libraries in a future section, but one such graphing library called `matplotlib` has a module for plotting graphs. Saving your graphs after building them relies on a function that does not have to take in any variables: `pyplot.savefig()`. You will see this module in action later.\n",
    "\n",
    "There are other important built-in functions that I will briefly cover here. I will not be mentioning all built-in functions, so feel free to look at the [list of built-in functions](https://docs.python.org/3/library/functions.html) for a more complete picture.\n"
   ]
  },
  {
   "cell_type": "code",
   "execution_count": null,
   "metadata": {},
   "outputs": [],
   "source": [
    "# len() returns the length of a list, including strings\n",
    "\n",
    "ex_string = 'ex_string'\n",
    "print(f'the length of ex_string is {len(ex_string)}')\n",
    "print(f'the length of the term \"ex_string\" is {len('ex_string')}')\n",
    "# Here's an example of an operation being performed within the function's parentheses\n",
    "print(f'the length of \"ex_string\" + \"another_ex_string\" is {len('ex_string' + 'another_ex_string')}, and looks like {('ex_string' + 'another_ex_string')}')\n",
    "print(f'the length of \"e\"*5 is {len('e' * 5)}, and looks like {('e'*5)}')"
   ]
  },
  {
   "cell_type": "code",
   "execution_count": null,
   "metadata": {},
   "outputs": [],
   "source": [
    "# abs() returns the absolute value of int or floats numbers\n",
    "\n",
    "print(f'the absolute value of 5 is {abs(5)}')\n",
    "print(f'the absolute value of -5 is {abs(-5)}')\n",
    "print(f'the absolute value of -5.0 is {abs(-5.0)}')\n",
    "print(f'the absolute value of 2.0 - 5.0 is {abs(2.0 - 5.0)}')\n",
    "\n",
    "# Let's try nesting functions using the first two examples\n",
    "# This example doesn't have any real-world value, but it's a good opportunity to show nested functions at work\n",
    "ex_list = [0., 1., 2., 3., 4.]\n",
    "print(f'the example list has a length of {len(ex_list)} and if we multiply that by a negative number we get {-1 * len(ex_list)}, the absolute value of which is {abs(-1 * len(ex_list))}')"
   ]
  },
  {
   "cell_type": "code",
   "execution_count": null,
   "metadata": {},
   "outputs": [],
   "source": [
    "# enumerate() is a function that keeps track of the number of iterations that have passed while iterating through a list\n",
    "# It is extremely helpful when dealing with items within the list during which you want to keep track of the index of that item\n",
    "\n",
    "# Here's an example of enumerate() at work:\n",
    "ex_list_2 = ['item1', 2, '3', 4.0]\n",
    "\n",
    "for ix, val in enumerate(ex_list_2):\n",
    "    print(f'At position {ix}, the item in the list is {val} and is of type {type(val)}')\n",
    "\n",
    "# You don't have to start with the first item in the list, either! Just change the 'start' variable when calling enumerate() like below:\n",
    "\n",
    "# Remember, we index at 0, so starting at index 2 will start us at the '3' item in the list\n",
    "for ix, val in enumerate(ex_list_2, start=2):\n",
    "    print(f'At position {ix}, the item in the list is {val} and is of type {type(val)}')"
   ]
  },
  {
   "cell_type": "code",
   "execution_count": null,
   "metadata": {},
   "outputs": [],
   "source": [
    "# sum() returns the total sum of all values in a list, either as an int or a float depending on the types in the list\n",
    "# The list must not contain any strings, but can contain a mixture of ints and floats\n",
    "# If the list contains any floats, the returned value will also be a float\n",
    "\n",
    "summed_list = [2, 2.0, 3.0]\n",
    "print(f'The sum of the summed_list is {sum(summed_list)} and is of type {type(sum(summed_list))}')"
   ]
  },
  {
   "cell_type": "code",
   "execution_count": null,
   "metadata": {},
   "outputs": [],
   "source": [
    "\n",
    "# If we change all of the values to ints we get the summed value as an int as well\n",
    "for idx, val in summed_list:\n",
    "    summed_list[idx] = int(val)\n",
    "    print(f'At index {idx} the summed_list value is {val} and is of type {type(val)}')\n",
    "\n",
    "print(f'The sum of the new summed_list is {sum(summed_list)} and is of type {type(sum(summed_list))}')"
   ]
  },
  {
   "cell_type": "code",
   "execution_count": null,
   "metadata": {},
   "outputs": [],
   "source": [
    "\n",
    "# If we change the first value to a string we get an error when we attempt to sum all the values in the print() call\n",
    "summed_list[0] = '2'\n",
    "for idx, val in enumerate(summed_list):\n",
    "    print(f'At index {idx}, summed_val contains {val} which is of type {type(val)}')\n",
    "print(f'The sum of the new summed_list, which contains a string, is {sum(summed_list)} and is of type {type(sum(summed_list))}')"
   ]
  },
  {
   "cell_type": "markdown",
   "metadata": {},
   "source": [
    "\n",
    "##1.6 Writing your own functions\n",
    "\n",
    "##1.7 Helpful packages and modules\n",
    "\n",
    "##1.8 Final thoughts"
   ]
  }
 ],
 "metadata": {
  "kernelspec": {
   "display_name": "Python 3.8.2 64-bit",
   "language": "python",
   "name": "python3"
  },
  "language_info": {
   "name": "python",
   "version": "3.8.2"
  },
  "orig_nbformat": 4,
  "vscode": {
   "interpreter": {
    "hash": "31f2aee4e71d21fbe5cf8b01ff0e069b9275f58929596ceb00d14d90e3e16cd6"
   }
  }
 },
 "nbformat": 4,
 "nbformat_minor": 2
}
