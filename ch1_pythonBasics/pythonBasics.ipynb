{
 "cells": [
  {
   "cell_type": "markdown",
   "metadata": {},
   "source": [
    "#Chapter One: Python\n",
    "\n",
    "In this chapter, you will learn the very basics of python. For a more in-depth look at python's functionality, see [python's documentations webpage](https://www.python.org/doc/). This chapter will cover just enough for the unitiated to run and understand the tutorials. If you have experience in python already, feel free to skip this chapter.\n",
    "\n",
    "##1.0 Running examples in the jupyter notebooks\n",
    "\n",
    "Before getting into the language itself, it is import we all understand how to interact with the jupyter notebooks. Jupyter notebooks are handy in that they allow you to easily mix text with code (as opposed to just having documents filled with long sections of comments); however, it is important that you run the cells in order so that any loaded modules / defined variables / defined functions are available to the cells that follow them (don't worry, these terms will be explained below for the unitiated). You can run each cell, and skip over text-filled cells, with `ctrl+enter` or you can use the buttons at the top of each cell to run them individually. Alternatively, you can select the 'Run All Cells' button in the toolbar and then read through the cells after they have been run, but I recommend running the cells as you get to them to make sure you fully understand what each cell is doing before moving on to the next.\n",
    "\n",
    "Make sure you try these different options out on the examples below.\n",
    "\n",
    "##1.1 The interpreter\n",
    "\n",
    "The python interpreter is what runs our programs. The beauty of the interpreter is that it can also perform python commands live in the shell. Typically, we will run a python program after it has been written, by calling the interpreter and adding the filename to the command, e.g.:\n",
    "\n",
    "```bash\n",
    "user@COMPUTER:/$ python3 example_file.py\n",
    "```\n",
    "\n",
    "However, we can also perform python commands live by simply typing in the interpreter itself:\n",
    "\n",
    "```bash\n",
    "user@COMPUTER:/$ python3\n",
    ">>>example_command = \"example command\"\n",
    ">>>print(example_command)\n",
    "example command\n",
    "```\n",
    "\n",
    "From there we can perform any functionality we would normally write into an actual script and have the effects happen live. While this is can be very useful for a number of reasons (e.g. affecting local files, performing quick calculations, testing certain functions, etc), we will primarily be writing our programs into scripts and then running them with the interpreter. So, if you want to write your own code as you follow along, I suggest that for these initial tutorials dealing with variables and data types you start with the running the interpreter without a program, but as we get into more complicated function writing, start with a script that you then run with the interpreter.\n",
    "\n",
    "##1.2 Variables\n",
    "\n",
    "Typically, when we write our programs we will be performing the bulk of our operations on variables. We can set variables to be a number of things and of many different types. Those types include integers (round, whole numbers), floating point numbers (aka floats, numbers with a decimal place), strings (words or individual letters or numbers (if defined within single- or double-quotations))."
   ]
  },
  {
   "cell_type": "code",
   "execution_count": null,
   "metadata": {},
   "outputs": [],
   "source": [
    "# First, this is a comment, a piece of text ignored by the interpreter, set as such with the hash symbol\n",
    "# Most people use comments to explain their code or walk through how certain functions work\n",
    "\n",
    "# Now, let's set our variables\n",
    "a = 1\n",
    "b = 1.0\n",
    "# For strings, you must surround the character(s) with single or double quotes\n",
    "c = 'one'\n",
    "d = \"o\"\n",
    "\n",
    "''' This is another way to comment in python, using three single apostrophes\n",
    "Now you can write entire blocks of text without preceding each line with a hash symbol\n",
    "But you have to remember to end the block of comments with another set of three apostrophes\n",
    "\n",
    "\n",
    "Let's print out our variables and their types\n",
    "I am printing these strings as 'formatted,' hence the f in front of the string\n",
    "Formatting a string allows me to print what the variable represents by wrapping it in curly braces\n",
    "Also, you can run certain functions (like type()) in the curly braces to get the variable's type\n",
    "\n",
    "The type() function prints what data type the variable is - we'll get more into functions later\n",
    "'''\n",
    "print(f'a is {a} and is of type {type(a)}')\n",
    "print(f'b is {b} and is of type {type(b)}')\n",
    "print(f'c is {c} and is of type {type(c)}')\n",
    "print(f'd is {d} and is of type {type(d)}')"
   ]
  },
  {
   "cell_type": "markdown",
   "metadata": {},
   "source": [
    "##1.3 Basic operations\n",
    "\n",
    "We can perform basic mathematical operations on our variables once they have been assigned (e.g. +, -, *, /). One operator that might be less familiar to you is the modulo (`%`) operator. This provides the remainder after division of two integers. Initially, I set the variables to floats, but can make them integers using the `int()` function (this also works for changing variables to many other types, including `float()` and `string()`). For the example below I set the variables two and three to floats of those respective numbers as it provides a float value following all mathematical operations, including division. If I did not make these values floats, then performing division would return a 0, as the integer value rounds to 0. I have shown this in the example below as well."
   ]
  },
  {
   "cell_type": "code",
   "execution_count": null,
   "metadata": {},
   "outputs": [],
   "source": [
    "two = 2.0\n",
    "three = 3.0\n",
    "\n",
    "print(f'two plus three equals {two + three}')\n",
    "print(f'two minus three equals {two - three}')\n",
    "print(f'two times three equals {two * three}')\n",
    "print(f'two divided by three equals {two / three}')\n",
    "print(f'two divided by three as integers equals {int(two) / int(three)}')\n",
    "print(f'three modulo two equals {int(three) % int(two)}')"
   ]
  },
  {
   "cell_type": "markdown",
   "metadata": {},
   "source": [
    "It can sometimes be confusing switching between data types, so we try not to do so unless absolutely necessary. We will almost always be dealing in strings and/or floats.\n",
    "\n",
    "Variables can also be reassigned, either through a direct change of their value or even through interactions with other variables. There are also some shorthands for this reassignment, which I show below."
   ]
  },
  {
   "cell_type": "code",
   "execution_count": null,
   "metadata": {},
   "outputs": [],
   "source": [
    "# To begin, let's set two variables\n",
    "var1 = 3.0\n",
    "var2 = 4.0\n",
    "\n",
    "var1 = 2.0\n",
    "print(f'after reassignment var1 = {var1}')\n",
    "\n",
    "# Now, let's reassign a variable through interaction with the other variable\n",
    "var1 = var1 * var2\n",
    "print(f'after reassignment through interaction var1 = {var2}')"
   ]
  },
  {
   "cell_type": "code",
   "execution_count": null,
   "metadata": {},
   "outputs": [],
   "source": [
    "# You might see certain shorthands for variable reassignment, such as using a mathematical operator and the equals sign to automatically updated the variable\n",
    "# REMEMBER! Run the cell above so `var1` retains its assignment\n",
    "\n",
    "var1 += 4.0\n",
    "print(var1)\n",
    "\n",
    "var1 *= 2.0\n",
    "print(var1)\n",
    "\n",
    "var1 /= 2.0\n",
    "print(var1)"
   ]
  },
  {
   "cell_type": "markdown",
   "metadata": {},
   "source": [
    "You can also use some of these mathematical operations on types other than `float` or `int`. If you add two strings together you get the combined text in the order of the variables. You can also repeat a string by multiplying it by an integer."
   ]
  },
  {
   "cell_type": "code",
   "execution_count": null,
   "metadata": {},
   "outputs": [],
   "source": [
    "example_string = 'example_string'\n",
    "\n",
    "# Let's make a new example string from the initial one\n",
    "example_string_2 = example_string + '_2'\n",
    "\n",
    "print(example_string_2)\n",
    "\n",
    "# Now let's have five example strings together, separated with an underscore\n",
    "# Also notice I spelled five and didn't use the integer; you cannot start a variable name with a number in python\n",
    "five_example_strings = (example_string + '_') * 5\n",
    "\n",
    "print(five_example_strings)"
   ]
  },
  {
   "cell_type": "markdown",
   "metadata": {},
   "source": [
    "You cannot perform subtraction or division on strings. If you want to remove letters from a string you will have to treat it like an array, which we will cover in the next section. Below I try to subtract the letter g from my example string and it throws an error."
   ]
  },
  {
   "cell_type": "code",
   "execution_count": null,
   "metadata": {},
   "outputs": [],
   "source": [
    "print(example_string - 'g') # This will throw an error..."
   ]
  },
  {
   "cell_type": "code",
   "execution_count": null,
   "metadata": {},
   "outputs": [],
   "source": [
    "print(five_example_strings / 5) # ...as will this"
   ]
  },
  {
   "cell_type": "markdown",
   "metadata": {},
   "source": [
    "##1.4 Data structures\n",
    "\n",
    "There are many strategies we will use for storing our data, some of which are built into python, others will require importing certain modules. We will cover many of the different, helpful libraries in a future section. For the rest of section 1.4 you just need the basics, which will be covered later in this subsection.\n"
   ]
  },
  {
   "cell_type": "markdown",
   "metadata": {},
   "source": [
    "\n",
    "For the rest of the discussion around data structures, it is important that you know how to import a module.\n",
    "\n",
    "First, the module of interest must be installed, which you can do using pip (or pip3). For an overview of installing and using pip please [see this helpful document](https://pypi.org/project/pip/). Once installed, we can simply call `import` followed by our module of interest. It looks like this:\n",
    "\n",
    "```python\n",
    "import numpy\n",
    "```\n",
    "\n",
    "numpy is a package that offers many useful data structures and scientific computing capabilities that we will use thorughout the rest of the book, including for the stats, calculus and linear algebra background chapters. One nice thing about importing packages into python is that we import them with a shorthand so we won't have to type their name out everytime we want to use them. Ex:\n",
    "\n",
    "```python\n",
    "import numpy as np\n",
    "```\n",
    "\n",
    "Now, whenever we want to call numpy we only have to type `np` followed by the module of interest.\n",
    "\n",
    "Additionally, we can import just specific modules of interest from their respective libraries. For example, when we want to graph something, we will often use the `pyplot` module from the matplotlib library. We can import `pyplot` directly and give it a shorthand as follows:\n",
    "\n",
    "```python\n",
    "import matplotlib.pyplot as plt\n",
    "```\n",
    "\n",
    "If we just wanted to import pyplot without giving it a shorthand, we could do so by using `from` and `import` like this:\n",
    "\n",
    "```python\n",
    "from matplotlib import pyplot\n",
    "```\n",
    "\n",
    "Now that you know how to import packages and their specific modules, let's use the numpy package for dealing with data structures."
   ]
  },
  {
   "cell_type": "markdown",
   "metadata": {},
   "source": [
    "\n",
    "##1.5 Built-in loops and functions\n",
    "\n",
    "There are many ways to manipulate variables, make decisions based on variables, produce certain outputs using variables, etc., that are built into python's functionality. Primarily, these approaches can occur through `loops` and `functions`. "
   ]
  },
  {
   "cell_type": "markdown",
   "metadata": {},
   "source": [
    "\n",
    "\n",
    "We have already covered a few built-in functions (e.g. print(), float(), string(), int()). One thing I'm sure you've noticed about all of these is the parentheses that follow the function name. Functions may or may not take in variables on which they act; for example, print('print') prints the word `print`, float(5) converts the integer `5` to the float `5.0`. In most cases you can perform operations within the parentheses while calling the function and the functionality will act on the result of that operation. You can also nest functions, by passing one function into another, performing the outer function on the result of the inner function.\n",
    "\n",
    "Other functions may act without taking in any variables. We will get to importing modules and libraries in a future section, but one such graphing library called `matplotlib` has a module for plotting graphs. Saving your graphs after building them relies on a function that does not have to take in any variables: `pyplot.savefig()`. You will see this module in action later.\n",
    "\n",
    "There are other important built-in functions that I will briefly cover here. I will not be mentioning all built-in functions, so feel free to look at the [list of built-in functions](https://docs.python.org/3/library/functions.html) for a more complete picture.\n"
   ]
  },
  {
   "cell_type": "code",
   "execution_count": null,
   "metadata": {},
   "outputs": [],
   "source": [
    "# len() returns the length of an array, including strings\n",
    "\n",
    "ex_string = 'ex_string'\n",
    "print(f'the length of ex_string is {len(ex_string)}')\n",
    "print(f'the length of the term \"ex_string\" is {len('ex_string')}')\n",
    "# Here's an example of an operation being within the function's parentheses\n",
    "print(f'the length of \"ex_string\" + \"another_ex_string\" is {len('ex_string' + 'another_ex_string')}, and looks like {('ex_string' + 'another_ex_string')}')\n",
    "print(f'the length of \"e\"*5 is {len('e' * 5)}, and looks like {('e'*5)}')"
   ]
  },
  {
   "cell_type": "code",
   "execution_count": null,
   "metadata": {},
   "outputs": [],
   "source": [
    "# abs() returns the absolute value of int or floats numbers\n",
    "\n",
    "print(f'the absolute value of 5 is {abs(5)}')\n",
    "print(f'the absolute value of -5 is {abs(-5)}')\n",
    "print(f'the absolute value of -5.0 is {abs(-5.0)}')\n",
    "print(f'the absolute value of 2.0 - 5.0 is {abs(2.0 - 5.0)}')\n",
    "\n",
    "# Let's try nesting functions using the first two examples\n",
    "# This example doesn't have any real-world value, but it's a good opportunity to show nested functions at work\n",
    "ex_array = [0., 1., 2., 3., 4.]\n",
    "print(f'the example array has a length of {len(ex_array)} and if we multiply that by a negative number we get {-1 * len(ex_array)}, the absolute value of which is {abs(-1 * len(ex_array))}')"
   ]
  },
  {
   "cell_type": "code",
   "execution_count": null,
   "metadata": {},
   "outputs": [],
   "source": [
    "# enumerate() is a function that keeps track of the number of iterations that have passed while iterating through an array\n",
    "# It is extremely helpful when dealing with items within the array during which you want to keep track of the index of that item\n",
    "\n",
    "# Here's an example of enumerate() at work:\n",
    "ex_array_2 = ['item1', 2, '3', 4.0]\n",
    "\n",
    "for ix, val in enumerate(ex_array_2):\n",
    "    print(f'At position {ix}, the item in the array is {val} and is of type {type(val)}')\n",
    "\n",
    "# You don't have to start with the first item in the array, either! Just change the 'start' variable when calling enumerate() like below:\n",
    "\n",
    "# Remember, we index at 0, so starting at index 2 will start us at the '3' item in the array\n",
    "for ix, val in enumerate(ex_array_2, start=2):\n",
    "    print(f'At position {ix}, the item in the array is {val} and is of type {type(val)}')"
   ]
  },
  {
   "cell_type": "code",
   "execution_count": null,
   "metadata": {},
   "outputs": [],
   "source": [
    "# sum() returns the total sum of all values in an array, either as an int or a float depending on the types in the array\n",
    "# The array must not contain any strings, but can contain a mixture of ints and floats\n",
    "# If the array contains any floats, the returned value will also be a float\n",
    "\n",
    "summed_array = [2, 2.0, 3.0]\n",
    "print(f'The sum of the summed_array is {sum(summed_array)} and is of type {type(sum(summed_array))}')"
   ]
  },
  {
   "cell_type": "code",
   "execution_count": null,
   "metadata": {},
   "outputs": [],
   "source": [
    "\n",
    "# If we change all of the values to ints we get the summed value as an int as well\n",
    "for idx, val in summed_array:\n",
    "    summed_array[idx] = int(val)\n",
    "    print(f'At index {idx} the summed_array value is {val} and is of type {type(val)}')\n",
    "\n",
    "print(f'The sum of the new summed_array is {sum(summed_array)} and is of type {type(sum(summed_array))}')"
   ]
  },
  {
   "cell_type": "code",
   "execution_count": null,
   "metadata": {},
   "outputs": [],
   "source": [
    "\n",
    "# If we change the first value to a string we get an error when we attempt to sum all the values in the print() call\n",
    "summed_array[0] = '2'\n",
    "for idx, val in enumerate(summed_array):\n",
    "    print(f'At index {idx}, summed_val contains {val} which is of type {type(val)}')\n",
    "print(f'The sum of the new summed_array, which contains a string, is {sum(summed_array)} and is of type {type(sum(summed_array))}')"
   ]
  },
  {
   "cell_type": "markdown",
   "metadata": {},
   "source": [
    "\n",
    "##1.6 Writing your own functions\n",
    "\n",
    "##1.7 Helpful packages and modules\n",
    "\n",
    "##1.8 Final thoughts"
   ]
  }
 ],
 "metadata": {
  "kernelspec": {
   "display_name": "Python 3.8.2 64-bit",
   "language": "python",
   "name": "python3"
  },
  "language_info": {
   "name": "python",
   "version": "3.8.2"
  },
  "orig_nbformat": 4,
  "vscode": {
   "interpreter": {
    "hash": "31f2aee4e71d21fbe5cf8b01ff0e069b9275f58929596ceb00d14d90e3e16cd6"
   }
  }
 },
 "nbformat": 4,
 "nbformat_minor": 2
}
