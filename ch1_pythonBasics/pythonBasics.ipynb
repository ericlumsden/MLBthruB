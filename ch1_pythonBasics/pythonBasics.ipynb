{
 "cells": [
  {
   "cell_type": "markdown",
   "metadata": {},
   "source": [
    "#Chapter One: Python\n",
    "\n",
    "In this chapter, you will learn the very basics behind python. For a more in-depth look at python's functionality, see [python's documtations webpage](https://www.python.org/doc/). This will cover just enough for the unitiated to run and understand the tutorials.\n",
    "\n",
    "##1.0 Running examples in the jupyter notebooks\n",
    "\n",
    "Before getting into the language itself, it is import we all understand how to interact with the jupyter notebooks. Jupyter notebooks are very handy in that you can easily mix more legible text with code (as opposed to just having documents filled with long sections of comments); however, it is important that you run the cells in order so that any loaded modules / defined variables / defined functions are available to the cells that follow them (don't worry, these terms will be explained below for the unitiated). You can run each cell, and skip over text-filled cells, with `ctrl+enter` or you can use the buttons up top to run each cell. Alternatively, you can select the 'Run All Cells' button and then read through the cells after they have been run, but I recommend running the cells as you get to them to make sure you fully understand what each cell is doing before moving on to the next.\n",
    "\n",
    "##1.1 The interpreter\n",
    "\n",
    "The python interpreter is what runs our programs. The beauty of the interpreter is that it can also perform python commands live in the shell. Typically, we will run a python program after it has been written, by calling the interpreter and adding the filename to the command, e.g.:\n",
    "\n",
    "```bash\n",
    "python3 example_file.py\n",
    "```\n",
    "\n",
    "However, we can also perform python commands live by simply typing in the interpreter itself:\n",
    "\n",
    "```bash\n",
    "python3\n",
    ">>>example_command = \"example command\"\n",
    ">>>print(example_command)\n",
    "example command\n",
    "```\n",
    "\n",
    "From there we can perform any functionality we would normally write into an actual script and have the effects happen live. While this is can be very useful for a number of reasons (e.g. affecting local files, performing quick calculations, testing certain functions, etc), we will primarily be writing our programs into scripts and then running them with the interpreter. So, if you want to write your own code as you follow along, I suggest that for these initial tutorials dealing with variables and data types you start with the running the interpreter without a program, but as we get into more complicated function writing you start with a script that you then run with the interpreter.\n",
    "\n",
    "##1.2 Variables\n",
    "\n",
    "Typically, when we write our programs we will be performing the bulk of our operations on variables. We can set variables to be a number of things and of many different types. Those types include integers (round, whole numbers), floating point numbers (aka floats, numbers with a decimal place), strings (words) or characters (individual letters or even numbers)"
   ]
  },
  {
   "cell_type": "code",
   "execution_count": null,
   "metadata": {},
   "outputs": [],
   "source": [
    "# First, this is a comment, a piece of text ignored by the interpreter, set as such with the hash symbol\n",
    "# Most people use comments to explain their code or walk through how certain functions work\n",
    "\n",
    "# Now, let's set our variables\n",
    "a = 1\n",
    "b = 1.0\n",
    "c = 'one'\n",
    "d = 'o'\n",
    "\n",
    "''' This is another way to comment in python, using three single apostrophes\n",
    "Now you can write entire blocks of text without preceding each line with a hash symbol\n",
    "\n",
    "\n",
    "Let's print out our variables and their types\n",
    "I am printing these strings as 'formatted,' hence the f in front of the string\n",
    "Formatting a string allows me to print what the variable represents by wrapping it in curly braces\n",
    "Also, you can run certain functions (like type()) in the curly braces to get the variable's type\n",
    "\n",
    "The type() function prints what data type the variable is - we'll get more into functions later\n",
    "'''\n",
    "print(f'a is {a} and is of type {type(a)}')\n",
    "print(f'a is {b} and is of type {type(b)}')\n",
    "print(f'a is {c} and is of type {type(c)}')\n",
    "print(f'a is {d} and is of type {type(d)}')"
   ]
  },
  {
   "cell_type": "markdown",
   "metadata": {},
   "source": [
    "We can perform basic mathematical operations on our variables once they have been assigned. One operator that might be less familiar to you is the modulo (`%`) operator. This provides the remainder after division of two integers. Initially, I set the variables to floats, but can make them integers using the `int()` function (this also works for changing variables to many other types, including `float()` and `string()`). For the example below I set the variables two and three to floats of those respective numbers as it provides a float value following all mathematical operations, including division. If I did not make these values floats, then performing division would return a 0, as the integer value rounds to 0. I have shown this in the example below as well."
   ]
  },
  {
   "cell_type": "code",
   "execution_count": null,
   "metadata": {},
   "outputs": [],
   "source": [
    "two = 2.0\n",
    "three = 3.0\n",
    "\n",
    "print(f'two plus three equals {two + three}')\n",
    "print(f'two minus three equals {two - three}')\n",
    "print(f'two times three equals {two * three}')\n",
    "print(f'two divided by three equals {two / three}')\n",
    "print(f'two divided by three as integers equals {int(two) / int(three)}')\n",
    "print(f'three modulo two equals {int(three) % int(two)}')"
   ]
  },
  {
   "cell_type": "markdown",
   "metadata": {},
   "source": [
    "It can sometimes be confusing switching between data types, so we try not to do so unless absolutely necessary. We will almost always be dealing in floats.\n",
    "\n",
    "Variables can also be reassigned, either through a direct change of their value or even through interactions with other variables. There are also some shorthands for this reassignment, which I show below."
   ]
  },
  {
   "cell_type": "code",
   "execution_count": null,
   "metadata": {},
   "outputs": [],
   "source": [
    "# To begin, let's set two variables\n",
    "a = 3.0\n",
    "b = 4.0\n",
    "\n",
    "a = 2.0\n",
    "print(f'after reassignment a = {a}')\n",
    "\n",
    "# Now, let's reassign a variable through interaction with the other variable\n",
    "a = a * b\n",
    "print(f'after reassignment through interaction a = {a}')"
   ]
  },
  {
   "cell_type": "code",
   "execution_count": null,
   "metadata": {},
   "outputs": [],
   "source": [
    "# You might see certain shorthands for variable reassignment, such as using a mathematical operator and the equals sign to automatically updated the variable\n",
    "\n",
    "a += 4.0\n",
    "print(a)\n",
    "\n",
    "a *= 2.0\n",
    "print(a)\n",
    "\n",
    "a /= 2.0\n",
    "print(a)"
   ]
  },
  {
   "cell_type": "markdown",
   "metadata": {},
   "source": [
    "##1.3 Data structures\n",
    "\n",
    "##1.4 Statements and built-in functions\n",
    "\n",
    "##1.5 Writing your own functions\n",
    "\n",
    "##1.6 Modules\n",
    "\n",
    "##1.7 Helpful libraries\n",
    "\n",
    "##1.8 Final thoughts"
   ]
  }
 ],
 "metadata": {
  "kernelspec": {
   "display_name": "Python 3.8.2 64-bit",
   "language": "python",
   "name": "python3"
  },
  "language_info": {
   "name": "python",
   "version": "3.8.2"
  },
  "orig_nbformat": 4,
  "vscode": {
   "interpreter": {
    "hash": "31f2aee4e71d21fbe5cf8b01ff0e069b9275f58929596ceb00d14d90e3e16cd6"
   }
  }
 },
 "nbformat": 4,
 "nbformat_minor": 2
}
